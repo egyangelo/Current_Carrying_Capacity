{
 "cells": [
  {
   "cell_type": "code",
   "execution_count": 2,
   "id": "ecb8f523-96b3-460e-88c0-455a5b6cc6d5",
   "metadata": {},
   "outputs": [],
   "source": [
    "import handcalcs.render\n",
    "import forallpeople as si\n",
    "si.environment('default', top_level=True)\n",
    "handcalcs.set_option(\"param_columns\", 3)\n",
    "handcalcs.set_option(\"display_precision\", 2)\n",
    "handcalcs.set_option(\"decimal_separator\", \".\")\n",
    "handcalcs.set_option(\"line_break\", \"\\\\\\\\[10pt]\")\n",
    "handcalcs.set_option(\"math_environment_start\", \"aligned\")\n",
    "handcalcs.set_option(\"math_environment_end\", \"aligned\")\n",
    "from math import sin, cos, tan , pi , sqrt"
   ]
  },
  {
   "cell_type": "markdown",
   "id": "bfb69e67-408c-4be0-82dd-1ef561e60234",
   "metadata": {},
   "source": [
    "# 1. Current carrying capacity of a conductor #\n",
    "\n",
    "## 1.1 Reference: ##\n",
    "IEEE 605-2008 \"Guide of Substation Rigid-Bus Structures\"\n"
   ]
  },
  {
   "cell_type": "code",
   "execution_count": 43,
   "id": "6ac6b10b-7d86-4a1b-b4d8-f191d848dbfb",
   "metadata": {},
   "outputs": [],
   "source": [
    "# those are the outside and inside diameters of the selected conductor, this should be updated to read from the available list of conductors\n",
    "#in the futute, I also need to learn how to display the chosed size\n",
    "D_o = 40 *10**-3 \n",
    "D_i = 6 *10**-3 \n",
    "#initial assumptions for the code to work\n",
    "P_rad = 0\n",
    "P_conv = 0\n",
    "P_sol = 0\n",
    "R_t = 1\n",
    "\n",
    "#Parameters used for Prad\n",
    "#Stefan – Boltzmann constant\n",
    "s =\t5.67 * 10**-8\n",
    "#Emissivity co-efficient for bus\n",
    "K_e\t= 0.5\n",
    "#Final temperature\n",
    "T_f\t= 358\n",
    "#Monthly Average ambient temperature\n",
    "T_a\t= 328\t\t\t\t\t\t\t\t\n",
    "\n",
    "#Parameters used for Pconv\n",
    "lamb = 0.02585 #Thermal conductivity of the air film in contact with the busbar\n",
    "V_min = 1 #minimum wind speed\n",
    "R_e = 1.644E9 * V_min * D_o * ( T_a + 0.5 * ( T_f - T_a))**-1.78 #Reynold's number\n",
    "N_u = (0.65*(R_e**0.2)) + (0.23*(R_e**0.61))\t#Nusselt number\n",
    "\n",
    "#Parameters used for Psolar\n",
    "gamma = 0.5 #Solar radiation absorption coefficient\t\t\t\t\t\t\n",
    "S_i\t= 1000 #Intensity of solar radiation\t\t\t\t\t=\t\n",
    "\n",
    "#The value of the minimum required current\n",
    "I_req = 100"
   ]
  },
  {
   "cell_type": "code",
   "execution_count": 5,
   "id": "6e15d671-742d-482d-b79a-ab883c9cb136",
   "metadata": {},
   "outputs": [
    {
     "data": {
      "text/latex": [
       "\\[\n",
       "\\begin{aligned}\n",
       "I_{max} &= \\sqrt { \\frac{ P_{rad} + P_{conv} - P_{sol} }{ R_{t} } } \\; \n",
       "\\end{aligned}\n",
       "\\]"
      ],
      "text/plain": [
       "<IPython.core.display.Latex object>"
      ]
     },
     "metadata": {},
     "output_type": "display_data"
    }
   ],
   "source": [
    "%%render \n",
    "# symbolic\n",
    "I_max = sqrt((P_rad + P_conv - P_sol)/R_t)"
   ]
  },
  {
   "cell_type": "code",
   "execution_count": 6,
   "id": "34345900-3aac-49de-8af3-b09d86b8ef93",
   "metadata": {},
   "outputs": [
    {
     "data": {
      "text/latex": [
       "\\[\n",
       "\\begin{aligned}\n",
       "I_{max} \\; \\;\\textrm{(Steady State current carrying capacity of the conductor)}\n",
       "\\\\[10pt]\n",
       "P_{rad} \\; \\;\\textrm{(Radiated Heat Loss)}\n",
       "\\\\[10pt]\n",
       "P_{conv} \\; \\;\\textrm{(Convection Heat Loss)}\n",
       "\\\\[10pt]\n",
       "P_{sol} \\; \\;\\textrm{(Solar Heat Gain)}\n",
       "\\\\[10pt]\n",
       "R_{t} \\; \\;\\textrm{(AC Resistance of the conductor at operating tempeature)}\n",
       "\\end{aligned}\n",
       "\\]"
      ],
      "text/plain": [
       "<IPython.core.display.Latex object>"
      ]
     },
     "metadata": {},
     "output_type": "display_data"
    }
   ],
   "source": [
    "%%render\n",
    "#symbolic\n",
    "I_max  #Steady State current carrying capacity of the conductor\n",
    "P_rad  #Radiated Heat Loss\n",
    "P_conv #Convection Heat Loss\n",
    "P_sol  #Solar Heat Gain\n",
    "R_t    #AC Resistance of the conductor at operating tempeature"
   ]
  },
  {
   "cell_type": "markdown",
   "id": "22feb081-d771-46dd-b35b-1d5de7ca6d0b",
   "metadata": {},
   "source": [
    "# 1.2 Radiated heat loss calculations #"
   ]
  },
  {
   "cell_type": "code",
   "execution_count": 8,
   "id": "71af6220-6506-4705-941c-2e88fd92a4e6",
   "metadata": {},
   "outputs": [
    {
     "data": {
      "text/latex": [
       "\\[\n",
       "\\begin{aligned}\n",
       "P_{rad} &= s \\cdot \\pi \\cdot K_{e} \\cdot D_{o} \\cdot \\left( \\left( T_{f} \\right) ^{ 4 } - \\left( T_{a} \\right) ^{ 4 } \\right) \\\\&= 5.670 \\times 10 ^ {-8} \\cdot 3.142 \\times 10 ^ {0} \\cdot 5.000 \\times 10 ^ {-1} \\cdot 4.000 \\times 10 ^ {-2} \\cdot \\left( \\left( 358 \\right) ^{ 4 } - \\left( 328 \\right) ^{ 4 } \\right) \\\\&= 1.728 \\times 10 ^ {1}  \\\\[10pt]\n",
       "\\end{aligned}\n",
       "\\]"
      ],
      "text/plain": [
       "<IPython.core.display.Latex object>"
      ]
     },
     "metadata": {},
     "output_type": "display_data"
    }
   ],
   "source": [
    "%%render  sci_not 3\n",
    "\n",
    "P_rad = s * pi * K_e * D_o * ( T_f**4 - T_a**4 ) \n"
   ]
  },
  {
   "cell_type": "code",
   "execution_count": 9,
   "id": "0f3f409a-9b68-4ea0-9a90-cc879e459db9",
   "metadata": {},
   "outputs": [
    {
     "data": {
      "text/latex": [
       "\\[\n",
       "\\begin{aligned}\n",
       "P_{rad} &= 17.28 \\; \\;\\textrm{(Radiated Heat Loss)}\n",
       "\\end{aligned}\n",
       "\\]"
      ],
      "text/plain": [
       "<IPython.core.display.Latex object>"
      ]
     },
     "metadata": {},
     "output_type": "display_data"
    }
   ],
   "source": [
    "%%render\n",
    "P_rad #Radiated Heat Loss"
   ]
  },
  {
   "cell_type": "code",
   "execution_count": 10,
   "id": "71493a60-58bb-45b6-b35d-d3fc460e592f",
   "metadata": {},
   "outputs": [
    {
     "data": {
      "text/latex": [
       "\\[\n",
       "\\begin{aligned}\n",
       "s &= 5.67 \\times 10 ^ {-8} \\; \\;\\textrm{(Stefan Boltzmann constant)}\n",
       "\\\\[10pt]\n",
       "K_{e} &= 5.00 \\times 10 ^ {-1} \\; \\;\\textrm{(Emissivity co-efficient for bus)}\n",
       "\\\\[10pt]\n",
       "T_{f} &= 358 \\; \\;\\textrm{(Final temperature)}\n",
       "\\\\[10pt]\n",
       "T_{a} &= 328 \\; \\;\\textrm{(Monthly Average ambient temperature of)}\n",
       "\\end{aligned}\n",
       "\\]"
      ],
      "text/plain": [
       "<IPython.core.display.Latex object>"
      ]
     },
     "metadata": {},
     "output_type": "display_data"
    }
   ],
   "source": [
    "%%render sci_not 2\n",
    "\n",
    "s  #Stefan Boltzmann constant\n",
    "K_e #Emissivity co-efficient for bus\t\t\t\n",
    "T_f #Final temperature\t\t\t\t\t\n",
    "T_a #Monthly Average ambient temperature of"
   ]
  },
  {
   "cell_type": "markdown",
   "id": "8116b7a9-5057-4b3c-a6de-6609140730a0",
   "metadata": {},
   "source": [
    "# 1.3 Convected heat loss calculations #"
   ]
  },
  {
   "cell_type": "code",
   "execution_count": 12,
   "id": "1cf57c3f-dda1-45e7-9c94-838f42e60cce",
   "metadata": {},
   "outputs": [
    {
     "data": {
      "text/latex": [
       "\\[\n",
       "\\begin{aligned}\n",
       "P_{conv} &= \\lambda \\cdot N_{u} \\cdot \\pi \\cdot \\left( T_{f} - T_{a} \\right)  = 0.03 \\cdot 26.85 \\cdot 3.14 \\cdot \\left( 358 - 328 \\right) &= 65.41  \n",
       "\\end{aligned}\n",
       "\\]"
      ],
      "text/plain": [
       "<IPython.core.display.Latex object>"
      ]
     },
     "metadata": {},
     "output_type": "display_data"
    }
   ],
   "source": [
    "%%render\n",
    "P_conv = lamb * N_u * pi * (T_f - T_a) \n",
    "\n"
   ]
  },
  {
   "cell_type": "code",
   "execution_count": 13,
   "id": "65770a1e-2ba4-405a-b756-d5a19d6e8e50",
   "metadata": {
    "scrolled": true
   },
   "outputs": [
    {
     "data": {
      "text/latex": [
       "\\[\n",
       "\\begin{aligned}\n",
       "\\lambda &= 2.585 \\times 10 ^ {-2} \\; \\;\\textrm{(Thermal conductivity of the air film in contact with the busbar)}\n",
       "\\\\[10pt]\n",
       "N_{u} &= 2.685 \\times 10 ^ {1} \\; \\;\\textrm{(Nusselt number)}\n",
       "\\end{aligned}\n",
       "\\]"
      ],
      "text/plain": [
       "<IPython.core.display.Latex object>"
      ]
     },
     "metadata": {},
     "output_type": "display_data"
    }
   ],
   "source": [
    "%%render sci_not 3\n",
    "lamb #Thermal conductivity of the air film in contact with the busbar\n",
    "N_u  #Nusselt number"
   ]
  },
  {
   "cell_type": "markdown",
   "id": "0de6cb1b-d679-45c7-82ff-966be37532a1",
   "metadata": {},
   "source": [
    "# 1.4 Solar radiation hear gain calculations #"
   ]
  },
  {
   "cell_type": "code",
   "execution_count": 15,
   "id": "fd36069b-5a77-4927-97d3-178c57d4fe62",
   "metadata": {},
   "outputs": [
    {
     "data": {
      "text/latex": [
       "\\[\n",
       "\\begin{aligned}\n",
       "P_{sol} &= \\gamma \\cdot D_{o} \\cdot S_{i}  = 0.50 \\cdot 0.04 \\cdot 1000 &= 20.00  \n",
       "\\end{aligned}\n",
       "\\]"
      ],
      "text/plain": [
       "<IPython.core.display.Latex object>"
      ]
     },
     "metadata": {},
     "output_type": "display_data"
    }
   ],
   "source": [
    "%%render\n",
    "P_sol\t=\tgamma * D_o * S_i \t\t\t\t\t\t\n"
   ]
  },
  {
   "cell_type": "code",
   "execution_count": 16,
   "id": "ebf885ef-30f9-4bb6-8d88-152be49ec82b",
   "metadata": {},
   "outputs": [
    {
     "data": {
      "text/latex": [
       "\\[\n",
       "\\begin{aligned}\n",
       "\\gamma &= 5.000 \\times 10 ^ {-1} \\; \\;\\textrm{(Solar radiation absorption coefficient)}\n",
       "\\\\[10pt]\n",
       "S_{i} &= 1000 \\; \\;\\textrm{(Intensity of solar radiation)}\n",
       "\\end{aligned}\n",
       "\\]"
      ],
      "text/plain": [
       "<IPython.core.display.Latex object>"
      ]
     },
     "metadata": {},
     "output_type": "display_data"
    }
   ],
   "source": [
    "%%render sci_not 3\n",
    "gamma #Solar radiation absorption coefficient\t\t\t\t\t\t\n",
    "S_i #Intensity of solar radiation"
   ]
  },
  {
   "cell_type": "markdown",
   "id": "a9f5671b-2837-4145-ad6d-e654cb5f15b1",
   "metadata": {},
   "source": [
    "# 1.5 AC resistance of the conductor at final temperature #"
   ]
  },
  {
   "cell_type": "code",
   "execution_count": 34,
   "id": "0b35a9e8-5c17-4234-ad0e-01d3ab0d33b3",
   "metadata": {},
   "outputs": [],
   "source": [
    "# this part is not well constructed in the SEC sheet, I can use the Egyptian sheet instead\n",
    "R_t = 6.525E-5"
   ]
  },
  {
   "cell_type": "code",
   "execution_count": 40,
   "id": "017694de-840d-4b09-9125-7e4b8241b0d2",
   "metadata": {},
   "outputs": [
    {
     "data": {
      "text/latex": [
       "\\[\n",
       "\\begin{aligned}\n",
       "I_{max} &= \\sqrt { \\frac{ P_{rad} + P_{conv} - P_{sol} }{ R_{t} } } \\\\&= \\sqrt { \\frac{ 1.728 \\times 10 ^ {1} + 6.541 \\times 10 ^ {1} - 2.000 \\times 10 ^ {1} }{ 6.525 \\times 10 ^ {-5} } } \\\\&= 9.802 \\times 10 ^ {2} \\; \\;\\textrm{(Amps)}\\\\[10pt]\n",
       "\\end{aligned}\n",
       "\\]"
      ],
      "text/plain": [
       "<IPython.core.display.Latex object>"
      ]
     },
     "metadata": {},
     "output_type": "display_data"
    }
   ],
   "source": [
    "\n",
    "%%render sci_not 3\n",
    "# long\n",
    "I_max = sqrt(((P_rad + P_conv - P_sol)/(R_t))) #Amps\n",
    "           "
   ]
  },
  {
   "cell_type": "code",
   "execution_count": 71,
   "id": "cfa53d14-6197-45bd-a924-fb148715dcb5",
   "metadata": {},
   "outputs": [],
   "source": [
    "if I_max>I_req : \n",
    "    Result = \"Success, This conductor is sufficient to carry the steady state current\"\n",
    "else :\n",
    "    Result = \"Fail, This conductor is NOT sufficient to carry the steady state current\"\n",
    "    \n",
    "    \n",
    "\n"
   ]
  },
  {
   "cell_type": "code",
   "execution_count": 73,
   "id": "864dec32-45b6-4db6-af9f-9f39d4ddfaf6",
   "metadata": {},
   "outputs": [
    {
     "data": {
      "text/plain": [
       "'Success, This conductor is sufficient to carry the steady state current'"
      ]
     },
     "execution_count": 73,
     "metadata": {},
     "output_type": "execute_result"
    }
   ],
   "source": [
    "\n",
    "Result"
   ]
  },
  {
   "cell_type": "code",
   "execution_count": null,
   "id": "e1435286-fd4a-4fe8-a76d-a667876f9878",
   "metadata": {},
   "outputs": [],
   "source": []
  }
 ],
 "metadata": {
  "kernelspec": {
   "display_name": "Python 3 (ipykernel)",
   "language": "python",
   "name": "python3"
  },
  "language_info": {
   "codemirror_mode": {
    "name": "ipython",
    "version": 3
   },
   "file_extension": ".py",
   "mimetype": "text/x-python",
   "name": "python",
   "nbconvert_exporter": "python",
   "pygments_lexer": "ipython3",
   "version": "3.12.4"
  }
 },
 "nbformat": 4,
 "nbformat_minor": 5
}
